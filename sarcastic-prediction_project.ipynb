{
 "cells": [
  {
   "cell_type": "code",
   "execution_count": 1,
   "metadata": {
    "execution": {
     "iopub.execute_input": "2022-03-20T06:48:44.624265Z",
     "iopub.status.busy": "2022-03-20T06:48:44.623822Z",
     "iopub.status.idle": "2022-03-20T06:48:44.657047Z",
     "shell.execute_reply": "2022-03-20T06:48:44.656138Z",
     "shell.execute_reply.started": "2022-03-20T06:48:44.624186Z"
    }
   },
   "outputs": [],
   "source": [
    "# This Python 3 environment comes with many helpful analytics libraries installed\n",
    "# It is defined by the kaggle/python Docker image: https://github.com/kaggle/docker-python\n",
    "# For example, here's several helpful packages to load\n",
    "\n",
    "import numpy as np # linear algebra\n",
    "import pandas as pd # data processing, CSV file I/O (e.g. pd.read_csv)\n",
    "\n",
    "# Input data files are available in the read-only \"../input/\" directory\n",
    "# For example, running this (by clicking run or pressing Shift+Enter) will list all files under the input directory\n",
    "\n",
    "import os\n",
    "for dirname, _, filenames in os.walk('/kaggle/input'):\n",
    "    for filename in filenames:\n",
    "        print(os.path.join(dirname, filename))\n",
    "\n",
    "# You can write up to 20GB to the current directory (/kaggle/working/) that gets preserved as output when you create a version using \"Save & Run All\" \n",
    "# You can also write temporary files to /kaggle/temp/, but they won't be saved outside of the current session"
   ]
  },
  {
   "cell_type": "markdown",
   "metadata": {
    "id": "T18tpEszl37W"
   },
   "source": [
    "### Problem Statement\n",
    "\n",
    "In this challenge, you will work on a dataset that contains news headlines - which are aimed to be written in a sarcastic manner by the news author. Our job here is to build our NLP models and predict whether the headline is sarcastic or not.\n",
    "\n",
    "Evaluation metrics - Accuracy score"
   ]
  },
  {
   "cell_type": "code",
   "execution_count": 2,
   "metadata": {
    "execution": {
     "iopub.execute_input": "2022-03-20T06:48:44.660072Z",
     "iopub.status.busy": "2022-03-20T06:48:44.659837Z",
     "iopub.status.idle": "2022-03-20T06:48:54.206764Z",
     "shell.execute_reply": "2022-03-20T06:48:54.205953Z",
     "shell.execute_reply.started": "2022-03-20T06:48:44.660045Z"
    },
    "id": "OC2Bd80Kq1EG",
    "outputId": "0bd5765e-639e-4c6f-d295-d22aa35e8a83"
   },
   "outputs": [],
   "source": [
    "!pip install contractions"
   ]
  },
  {
   "cell_type": "code",
   "execution_count": 3,
   "metadata": {
    "execution": {
     "iopub.execute_input": "2022-03-20T06:48:54.208761Z",
     "iopub.status.busy": "2022-03-20T06:48:54.208535Z",
     "iopub.status.idle": "2022-03-20T06:48:56.162985Z",
     "shell.execute_reply": "2022-03-20T06:48:56.162082Z",
     "shell.execute_reply.started": "2022-03-20T06:48:54.208737Z"
    },
    "id": "WFGioNmnXmvI",
    "outputId": "26ff5da9-a157-46c8-8424-41a25d659f9c"
   },
   "outputs": [],
   "source": [
    "import pandas as pd\n",
    "import numpy as np\n",
    "import seaborn as sns\n",
    "import matplotlib.pyplot as plt\n",
    "from matplotlib import style,rcParams\n",
    "style.use('seaborn-white')\n",
    "import warnings\n",
    "warnings.filterwarnings('ignore')\n",
    "import re\n",
    "%matplotlib inline\n",
    "\n",
    "import nltk\n",
    "from nltk.corpus import stopwords\n",
    "from nltk.stem import WordNetLemmatizer, PorterStemmer\n",
    "nltk.download('stopwords')\n",
    "nltk.download('wordnet')\n",
    "from wordcloud import WordCloud\n",
    "import wordcloud\n",
    "import string\n",
    "\n",
    "import itertools\n",
    "import collections\n",
    "from collections import Counter\n",
    "\n",
    "import nltk\n",
    "import contractions\n",
    "import re\n",
    "\n",
    "import textblob\n",
    "\n",
    "## for feature extraction\n",
    "\n",
    "from sklearn.feature_extraction.text import CountVectorizer, TfidfVectorizer\n",
    "from sklearn.decomposition import TruncatedSVD"
   ]
  },
  {
   "cell_type": "code",
   "execution_count": 4,
   "metadata": {
    "execution": {
     "iopub.execute_input": "2022-03-20T06:48:56.165421Z",
     "iopub.status.busy": "2022-03-20T06:48:56.164408Z",
     "iopub.status.idle": "2022-03-20T06:48:57.423142Z",
     "shell.execute_reply": "2022-03-20T06:48:57.422306Z",
     "shell.execute_reply.started": "2022-03-20T06:48:56.165349Z"
    }
   },
   "outputs": [],
   "source": [
    "## machine learning libary\n",
    "from sklearn.model_selection import train_test_split, StratifiedKFold\n",
    "from sklearn.metrics import accuracy_score, classification_report, confusion_matrix, precision_recall_fscore_support\n",
    "from catboost import CatBoostClassifier\n",
    "from lightgbm import LGBMClassifier\n",
    "from xgboost import XGBClassifier\n",
    "from sklearn.ensemble import RandomForestClassifier\n",
    "from sklearn.tree import DecisionTreeClassifier, ExtraTreeClassifier\n",
    "from sklearn.linear_model import LogisticRegression, RidgeClassifier"
   ]
  },
  {
   "cell_type": "code",
   "execution_count": 5,
   "metadata": {
    "execution": {
     "iopub.execute_input": "2022-03-20T06:48:57.426177Z",
     "iopub.status.busy": "2022-03-20T06:48:57.425652Z",
     "iopub.status.idle": "2022-03-20T06:48:57.432042Z",
     "shell.execute_reply": "2022-03-20T06:48:57.431153Z",
     "shell.execute_reply.started": "2022-03-20T06:48:57.426131Z"
    },
    "id": "Lk3ftw7VZ7eq"
   },
   "outputs": [],
   "source": [
    "def without_hue(plot, feature):\n",
    "    total = len(feature)\n",
    "    for p in ax.patches:\n",
    "        percentage = '{:.1f}%'.format(100 * p.get_height()/total)\n",
    "        x = p.get_x() + p.get_width() / 2 - 0.05\n",
    "        y = p.get_y() + p.get_height()\n",
    "        ax.annotate(percentage, (x, y), size = 12)\n",
    "    plt.show()"
   ]
  },
  {
   "cell_type": "code",
   "execution_count": 6,
   "metadata": {
    "execution": {
     "iopub.execute_input": "2022-03-20T06:48:57.433801Z",
     "iopub.status.busy": "2022-03-20T06:48:57.433408Z",
     "iopub.status.idle": "2022-03-20T06:48:57.582170Z",
     "shell.execute_reply": "2022-03-20T06:48:57.581417Z",
     "shell.execute_reply.started": "2022-03-20T06:48:57.433772Z"
    },
    "id": "yFAW3fULZcXS"
   },
   "outputs": [],
   "source": [
    "train = pd.read_csv('/kaggle/input/sarcastic-nlp/Train_Dataset.csv')\n",
    "test = pd.read_csv('/kaggle/input/sarcastic-nlp/Test_Dataset.csv')"
   ]
  },
  {
   "cell_type": "code",
   "execution_count": 7,
   "metadata": {
    "execution": {
     "iopub.execute_input": "2022-03-20T06:48:57.583388Z",
     "iopub.status.busy": "2022-03-20T06:48:57.583175Z",
     "iopub.status.idle": "2022-03-20T06:48:57.599331Z",
     "shell.execute_reply": "2022-03-20T06:48:57.598586Z",
     "shell.execute_reply.started": "2022-03-20T06:48:57.583334Z"
    },
    "id": "ucuyLkniZjws",
    "outputId": "761f494d-9582-4812-cf8b-dff2105c5d6b"
   },
   "outputs": [],
   "source": [
    "train.head()"
   ]
  },
  {
   "cell_type": "code",
   "execution_count": 8,
   "metadata": {
    "execution": {
     "iopub.execute_input": "2022-03-20T06:48:57.600570Z",
     "iopub.status.busy": "2022-03-20T06:48:57.600341Z",
     "iopub.status.idle": "2022-03-20T06:48:57.605154Z",
     "shell.execute_reply": "2022-03-20T06:48:57.604399Z",
     "shell.execute_reply.started": "2022-03-20T06:48:57.600544Z"
    },
    "id": "RY2BcrERZ3q9",
    "outputId": "244a7831-7613-425d-e93a-ec7d692edd9f"
   },
   "outputs": [],
   "source": [
    "print('we have {} rows in our trainmset'.format(train.shape[0]))\n",
    "print('we have {} columns in our train set'.format(train.shape[1]))"
   ]
  },
  {
   "cell_type": "code",
   "execution_count": 9,
   "metadata": {
    "execution": {
     "iopub.execute_input": "2022-03-20T06:48:57.606460Z",
     "iopub.status.busy": "2022-03-20T06:48:57.606219Z",
     "iopub.status.idle": "2022-03-20T06:48:57.617280Z",
     "shell.execute_reply": "2022-03-20T06:48:57.616563Z",
     "shell.execute_reply.started": "2022-03-20T06:48:57.606434Z"
    },
    "id": "gwcXY9ObaNF3",
    "outputId": "1b0215fb-2856-4f95-97b2-2604b1ef7e51"
   },
   "outputs": [],
   "source": [
    "print('we have {} rows in our test set'.format(test.shape[0]))\n",
    "print('we have {} columns in our test set'.format(test.shape[1]))"
   ]
  },
  {
   "cell_type": "markdown",
   "metadata": {
    "id": "CmqJoh1BZm9o"
   },
   "source": [
    "### EDA on the data"
   ]
  },
  {
   "cell_type": "code",
   "execution_count": 10,
   "metadata": {
    "execution": {
     "iopub.execute_input": "2022-03-20T06:48:57.619278Z",
     "iopub.status.busy": "2022-03-20T06:48:57.618931Z",
     "iopub.status.idle": "2022-03-20T06:48:57.811758Z",
     "shell.execute_reply": "2022-03-20T06:48:57.811088Z",
     "shell.execute_reply.started": "2022-03-20T06:48:57.619196Z"
    },
    "id": "6zCl9B28ZlFz",
    "outputId": "ad74a55e-e27a-4dc0-8659-273cac19dc78"
   },
   "outputs": [],
   "source": [
    "ax = sns.countplot(x='is_sarcastic', data=train, order = train['is_sarcastic'].value_counts().index)\n",
    "without_hue(ax, train['is_sarcastic'])"
   ]
  },
  {
   "cell_type": "markdown",
   "metadata": {
    "id": "ZwKw_96Rar3v"
   },
   "source": [
    "The dataset is slightly balanced"
   ]
  },
  {
   "cell_type": "code",
   "execution_count": 11,
   "metadata": {
    "execution": {
     "iopub.execute_input": "2022-03-20T06:48:57.813025Z",
     "iopub.status.busy": "2022-03-20T06:48:57.812822Z",
     "iopub.status.idle": "2022-03-20T06:48:57.818845Z",
     "shell.execute_reply": "2022-03-20T06:48:57.817997Z",
     "shell.execute_reply.started": "2022-03-20T06:48:57.813000Z"
    },
    "id": "O9PGVeqPav6C",
    "outputId": "9b371cb3-f359-4853-e0e0-80f9455c939b"
   },
   "outputs": [],
   "source": [
    "train['headline'].iloc[6]"
   ]
  },
  {
   "cell_type": "markdown",
   "metadata": {
    "id": "deZ3gRCOkHXc"
   },
   "source": [
    "## Analyze the data using wordcloud"
   ]
  },
  {
   "cell_type": "code",
   "execution_count": 12,
   "metadata": {
    "execution": {
     "iopub.execute_input": "2022-03-20T06:48:57.820705Z",
     "iopub.status.busy": "2022-03-20T06:48:57.820256Z",
     "iopub.status.idle": "2022-03-20T06:49:23.769871Z",
     "shell.execute_reply": "2022-03-20T06:49:23.768501Z",
     "shell.execute_reply.started": "2022-03-20T06:48:57.820664Z"
    },
    "id": "jiYhmEMihqVT"
   },
   "outputs": [],
   "source": [
    "data_word = train['headline']\n",
    "plt.figure(figsize = (20,20))\n",
    "wc = WordCloud(stopwords=wordcloud.STOPWORDS, max_words = 5000 , width = 1600 , height = 800,\n",
    "               collocations=False).generate(\" \".join(data_word))\n",
    "plt.imshow(wc,interpolation='bilinear')"
   ]
  },
  {
   "cell_type": "markdown",
   "metadata": {
    "id": "AxyZ4FHIksqH"
   },
   "source": [
    "The word cloud simply define that the headline is about a nation called american and consistent of EX president Donald Trump and Obama."
   ]
  },
  {
   "cell_type": "markdown",
   "metadata": {
    "id": "wPNH__W8lv6U"
   },
   "source": [
    "### Word cloud based on each label\n",
    "\n",
    "1 - for sarcastic record\n",
    "\n",
    "0 - for non sarcastic record"
   ]
  },
  {
   "cell_type": "code",
   "execution_count": 13,
   "metadata": {
    "execution": {
     "iopub.execute_input": "2022-03-20T06:49:23.771706Z",
     "iopub.status.busy": "2022-03-20T06:49:23.771458Z",
     "iopub.status.idle": "2022-03-20T06:49:23.784409Z",
     "shell.execute_reply": "2022-03-20T06:49:23.783382Z",
     "shell.execute_reply.started": "2022-03-20T06:49:23.771678Z"
    },
    "id": "ismM7sGPkXaK"
   },
   "outputs": [],
   "source": [
    "sarcastic = train[train['is_sarcastic'] == 1].reset_index(drop=True)\n",
    "\n",
    "non_sarcastic = train[train['is_sarcastic'] == 0].reset_index(drop=True)\n"
   ]
  },
  {
   "cell_type": "code",
   "execution_count": 14,
   "metadata": {
    "execution": {
     "iopub.execute_input": "2022-03-20T06:49:23.789410Z",
     "iopub.status.busy": "2022-03-20T06:49:23.789095Z",
     "iopub.status.idle": "2022-03-20T06:49:23.796398Z",
     "shell.execute_reply": "2022-03-20T06:49:23.795314Z",
     "shell.execute_reply.started": "2022-03-20T06:49:23.789371Z"
    },
    "id": "AxM9wdLZmah0"
   },
   "outputs": [],
   "source": [
    "print(sarcastic.shape)\n",
    "print(non_sarcastic.shape)"
   ]
  },
  {
   "cell_type": "code",
   "execution_count": 15,
   "metadata": {
    "execution": {
     "iopub.execute_input": "2022-03-20T06:49:23.798734Z",
     "iopub.status.busy": "2022-03-20T06:49:23.798048Z",
     "iopub.status.idle": "2022-03-20T06:49:47.581133Z",
     "shell.execute_reply": "2022-03-20T06:49:47.580240Z",
     "shell.execute_reply.started": "2022-03-20T06:49:23.798655Z"
    },
    "id": "4oS2oOYwmidk"
   },
   "outputs": [],
   "source": [
    "sarcastic_word = sarcastic['headline']\n",
    "plt.figure(figsize = (20,20))\n",
    "wc = WordCloud(stopwords=wordcloud.STOPWORDS,max_words =5000 , width = 1600 , height = 800,background_color=\"white\",\n",
    "               collocations=False).generate(\" \".join(sarcastic_word))\n",
    "plt.imshow(wc, interpolation='bilinear')"
   ]
  },
  {
   "cell_type": "markdown",
   "metadata": {
    "id": "hBkW3KwenlQk"
   },
   "source": [
    "Most word are new, man and report"
   ]
  },
  {
   "cell_type": "code",
   "execution_count": 16,
   "metadata": {
    "execution": {
     "iopub.execute_input": "2022-03-20T06:49:47.583067Z",
     "iopub.status.busy": "2022-03-20T06:49:47.582524Z",
     "iopub.status.idle": "2022-03-20T06:50:13.834824Z",
     "shell.execute_reply": "2022-03-20T06:50:13.833347Z",
     "shell.execute_reply.started": "2022-03-20T06:49:47.583025Z"
    },
    "id": "D1Z-zlfZnbeN"
   },
   "outputs": [],
   "source": [
    "non_sarcastic_word = non_sarcastic['headline']\n",
    "plt.figure(figsize = (20,20))\n",
    "wc = WordCloud(stopwords=wordcloud.STOPWORDS,max_words = 5000 , width = 1600 , height = 800,background_color=\"white\",\n",
    "               collocations=False).generate(\" \".join(non_sarcastic_word))\n",
    "plt.imshow(wc, interpolation='bilinear')"
   ]
  },
  {
   "cell_type": "markdown",
   "metadata": {
    "id": "BUpSLc47n7Eo"
   },
   "source": [
    "Most word are focus on donald Trump"
   ]
  },
  {
   "cell_type": "markdown",
   "metadata": {
    "id": "wswOcqKWo2qW"
   },
   "source": [
    "### Data Preprocessing\n",
    "\n",
    "In this section we are going to clean our text data "
   ]
  },
  {
   "cell_type": "code",
   "execution_count": 17,
   "metadata": {
    "execution": {
     "iopub.execute_input": "2022-03-20T06:50:13.836509Z",
     "iopub.status.busy": "2022-03-20T06:50:13.836015Z",
     "iopub.status.idle": "2022-03-20T06:50:13.848790Z",
     "shell.execute_reply": "2022-03-20T06:50:13.847671Z",
     "shell.execute_reply.started": "2022-03-20T06:50:13.836472Z"
    },
    "id": "OlX24Q11n3JH"
   },
   "outputs": [],
   "source": [
    "# remove some stopwords to capture negation in n-grams if possible\n",
    "stop_words = nltk.corpus.stopwords.words('english')\n",
    "#stop_words.remove('no')\n",
    "#stop_words.remove('not')\n",
    "#stop_words.remove('your')\n",
    "\n",
    "# load up a for wordnet\n",
    "wnl = nltk.stem.WordNetLemmatizer()\n",
    "\n",
    "def simple_text_preprocessor(document): \n",
    "    # lower case\n",
    "    document = str(document).lower()\n",
    "    \n",
    "    # expand contractions\n",
    "    document = contractions.fix(document)\n",
    "    \n",
    "    # remove unnecessary characters\n",
    "    document = re.sub(r'[^a-zA-Z]',r' ', document)\n",
    "    document = re.sub(r'nbsp', r'', document)\n",
    "    document = re.sub(' +', ' ', document)\n",
    "    \n",
    "    # simple porter stemming\n",
    "    document = ' '.join([wnl.lemmatize(word) for word in document.split()])\n",
    "    \n",
    "    # stopwords removal\n",
    "    document = ' '.join([word for word in document.split() if word not in stop_words])\n",
    "    \n",
    "    return document\n",
    "\n",
    "clean_text = np.vectorize(simple_text_preprocessor)"
   ]
  },
  {
   "cell_type": "markdown",
   "metadata": {
    "id": "y8tloJmvr6yl"
   },
   "source": [
    "The above function is inspired by **Dipanjan Sarkar**"
   ]
  },
  {
   "cell_type": "code",
   "execution_count": 18,
   "metadata": {
    "execution": {
     "iopub.execute_input": "2022-03-20T06:50:13.850610Z",
     "iopub.status.busy": "2022-03-20T06:50:13.850217Z",
     "iopub.status.idle": "2022-03-20T06:50:20.263247Z",
     "shell.execute_reply": "2022-03-20T06:50:20.262603Z",
     "shell.execute_reply.started": "2022-03-20T06:50:13.850575Z"
    },
    "id": "28YYRvt4pBHJ"
   },
   "outputs": [],
   "source": [
    "train['headline_clean'] = clean_text(train['headline'].values)\n",
    "test['headline_clean'] = clean_text(test['headline'].values)"
   ]
  },
  {
   "cell_type": "code",
   "execution_count": 19,
   "metadata": {
    "execution": {
     "iopub.execute_input": "2022-03-20T06:50:20.264998Z",
     "iopub.status.busy": "2022-03-20T06:50:20.264546Z",
     "iopub.status.idle": "2022-03-20T06:50:20.273876Z",
     "shell.execute_reply": "2022-03-20T06:50:20.273046Z",
     "shell.execute_reply.started": "2022-03-20T06:50:20.264965Z"
    },
    "id": "oPE23VVTpFNA"
   },
   "outputs": [],
   "source": [
    "train.head()"
   ]
  },
  {
   "cell_type": "markdown",
   "metadata": {
    "id": "mwWB5v16uQ-g"
   },
   "source": [
    "### Data Visualization2 \n",
    "\n",
    "Check the top 10 words after removing noise (stopword) from the data."
   ]
  },
  {
   "cell_type": "code",
   "execution_count": 20,
   "metadata": {
    "execution": {
     "iopub.execute_input": "2022-03-20T06:50:20.275446Z",
     "iopub.status.busy": "2022-03-20T06:50:20.275201Z",
     "iopub.status.idle": "2022-03-20T06:50:20.368427Z",
     "shell.execute_reply": "2022-03-20T06:50:20.367530Z",
     "shell.execute_reply.started": "2022-03-20T06:50:20.275418Z"
    },
    "id": "0hqMJTz5sv2D"
   },
   "outputs": [],
   "source": [
    "cw = pd.DataFrame(Counter(\" \".join(train[\"headline_clean\"]).split()).most_common(10),columns=['words', 'count'])"
   ]
  },
  {
   "cell_type": "code",
   "execution_count": 21,
   "metadata": {
    "execution": {
     "iopub.execute_input": "2022-03-20T06:50:20.370021Z",
     "iopub.status.busy": "2022-03-20T06:50:20.369813Z",
     "iopub.status.idle": "2022-03-20T06:50:20.599090Z",
     "shell.execute_reply": "2022-03-20T06:50:20.598016Z",
     "shell.execute_reply.started": "2022-03-20T06:50:20.369997Z"
    },
    "id": "a7ukAipku1EI"
   },
   "outputs": [],
   "source": [
    "fig, ax = plt.subplots(figsize=(8, 8))\n",
    "\n",
    "# Plot horizontal bar graph\n",
    "cw.sort_values(by='count').plot.barh(x='words',\n",
    "                      y='count',\n",
    "                      ax=ax,\n",
    "                      color=\"blue\")\n",
    "\n",
    "ax.set_title(\"Common Words Found in Tweets \")\n",
    "\n",
    "plt.show()"
   ]
  },
  {
   "cell_type": "markdown",
   "metadata": {
    "id": "8tu_YHq0vB8s"
   },
   "source": [
    "Top 10 common word in the whole headline"
   ]
  },
  {
   "cell_type": "code",
   "execution_count": 22,
   "metadata": {
    "execution": {
     "iopub.execute_input": "2022-03-20T06:50:20.600883Z",
     "iopub.status.busy": "2022-03-20T06:50:20.600574Z",
     "iopub.status.idle": "2022-03-20T06:50:20.615863Z",
     "shell.execute_reply": "2022-03-20T06:50:20.614879Z",
     "shell.execute_reply.started": "2022-03-20T06:50:20.600843Z"
    },
    "id": "li0gU6zVu5zw"
   },
   "outputs": [],
   "source": [
    "new_sarcastic = train[train['is_sarcastic'] == 1].reset_index(drop=True)\n",
    "\n",
    "new_non_sarcastic = train[train['is_sarcastic'] == 0].reset_index(drop=True)\n"
   ]
  },
  {
   "cell_type": "code",
   "execution_count": 23,
   "metadata": {
    "execution": {
     "iopub.execute_input": "2022-03-20T06:50:20.617461Z",
     "iopub.status.busy": "2022-03-20T06:50:20.617205Z",
     "iopub.status.idle": "2022-03-20T06:50:20.664861Z",
     "shell.execute_reply": "2022-03-20T06:50:20.663639Z",
     "shell.execute_reply.started": "2022-03-20T06:50:20.617430Z"
    },
    "id": "Xumy1eVHvMYi"
   },
   "outputs": [],
   "source": [
    "ns = pd.DataFrame(Counter(\" \".join(new_sarcastic[\"headline_clean\"]).split()).most_common(10),columns=['words', 'count'])"
   ]
  },
  {
   "cell_type": "code",
   "execution_count": 24,
   "metadata": {
    "execution": {
     "iopub.execute_input": "2022-03-20T06:50:20.666943Z",
     "iopub.status.busy": "2022-03-20T06:50:20.666583Z",
     "iopub.status.idle": "2022-03-20T06:50:20.896762Z",
     "shell.execute_reply": "2022-03-20T06:50:20.895797Z",
     "shell.execute_reply.started": "2022-03-20T06:50:20.666900Z"
    },
    "id": "POPNZ5OvvgeV"
   },
   "outputs": [],
   "source": [
    "fig, ax = plt.subplots(figsize=(8, 8))\n",
    "\n",
    "# Plot horizontal bar graph\n",
    "ns.sort_values(by='count').plot.barh(x='words',\n",
    "                      y='count',\n",
    "                      ax=ax,\n",
    "                      color=\"red\")\n",
    "\n",
    "ax.set_title(\"Common Words Found in Tweets of sarcastic headline\")\n",
    "\n",
    "plt.show()"
   ]
  },
  {
   "cell_type": "markdown",
   "metadata": {
    "id": "hKpG9EeivqhA"
   },
   "source": [
    "Top 10 common word found in sarcastic word."
   ]
  },
  {
   "cell_type": "code",
   "execution_count": 25,
   "metadata": {
    "execution": {
     "iopub.execute_input": "2022-03-20T06:50:20.898641Z",
     "iopub.status.busy": "2022-03-20T06:50:20.898287Z",
     "iopub.status.idle": "2022-03-20T06:50:20.947062Z",
     "shell.execute_reply": "2022-03-20T06:50:20.946270Z",
     "shell.execute_reply.started": "2022-03-20T06:50:20.898607Z"
    },
    "id": "pUxZG-wdvoAy"
   },
   "outputs": [],
   "source": [
    "nns = pd.DataFrame(Counter(\" \".join(new_non_sarcastic[\"headline_clean\"]).split()).most_common(10),columns=['words', 'count'])"
   ]
  },
  {
   "cell_type": "code",
   "execution_count": 26,
   "metadata": {
    "execution": {
     "iopub.execute_input": "2022-03-20T06:50:20.948538Z",
     "iopub.status.busy": "2022-03-20T06:50:20.948221Z",
     "iopub.status.idle": "2022-03-20T06:50:21.169561Z",
     "shell.execute_reply": "2022-03-20T06:50:21.168785Z",
     "shell.execute_reply.started": "2022-03-20T06:50:20.948506Z"
    },
    "id": "IY8IXunGv0GE"
   },
   "outputs": [],
   "source": [
    "fig, ax = plt.subplots(figsize=(8, 8))\n",
    "\n",
    "# Plot horizontal bar graph\n",
    "nns.sort_values(by='count').plot.barh(x='words',\n",
    "                      y='count',\n",
    "                      ax=ax,\n",
    "                      color=\"black\")\n",
    "\n",
    "ax.set_title(\"Common Words Found in Tweets of non_sarcastic word\")\n",
    "\n",
    "plt.show()"
   ]
  },
  {
   "cell_type": "markdown",
   "metadata": {
    "id": "Gh9zjYMrwDax"
   },
   "source": [
    "Top 10 word found in non sarcastic word"
   ]
  },
  {
   "cell_type": "markdown",
   "metadata": {
    "id": "63_afHfrwHDO"
   },
   "source": [
    "### Feature engineering \n",
    "\n",
    "1. The first pre-processing is to enrich the data using sentiment analysis of each text\n",
    "\n",
    "2. counting the word text\n",
    "\n",
    "3. Using count word\n",
    "\n",
    "4. "
   ]
  },
  {
   "cell_type": "code",
   "execution_count": 27,
   "metadata": {
    "execution": {
     "iopub.execute_input": "2022-03-20T06:50:21.170994Z",
     "iopub.status.busy": "2022-03-20T06:50:21.170780Z",
     "iopub.status.idle": "2022-03-20T06:50:33.054896Z",
     "shell.execute_reply": "2022-03-20T06:50:33.053989Z",
     "shell.execute_reply.started": "2022-03-20T06:50:21.170969Z"
    },
    "id": "tTAv7HEIxZHc"
   },
   "outputs": [],
   "source": [
    "train_sentiment_features = train['headline'].apply(lambda row: textblob.TextBlob(row).sentiment)\n",
    "train['Polarity'] = [obj.polarity for obj in train_sentiment_features.values]\n",
    "train['Subjectivity'] = [obj.subjectivity for obj in train_sentiment_features.values]\n",
    "\n",
    "test_sentiment_features = test['headline'].apply(lambda row: textblob.TextBlob(row).sentiment)\n",
    "test['Polarity'] = [obj.polarity for obj in test_sentiment_features.values]\n",
    "test['Subjectivity'] = [obj.subjectivity for obj in test_sentiment_features.values]"
   ]
  },
  {
   "cell_type": "code",
   "execution_count": 28,
   "metadata": {
    "execution": {
     "iopub.execute_input": "2022-03-20T06:50:33.056366Z",
     "iopub.status.busy": "2022-03-20T06:50:33.056124Z",
     "iopub.status.idle": "2022-03-20T06:50:33.067492Z",
     "shell.execute_reply": "2022-03-20T06:50:33.066634Z",
     "shell.execute_reply.started": "2022-03-20T06:50:33.056326Z"
    },
    "id": "6EbqkIDX0FRX"
   },
   "outputs": [],
   "source": [
    "train.head()"
   ]
  },
  {
   "cell_type": "code",
   "execution_count": 29,
   "metadata": {
    "execution": {
     "iopub.execute_input": "2022-03-20T06:50:33.069071Z",
     "iopub.status.busy": "2022-03-20T06:50:33.068837Z",
     "iopub.status.idle": "2022-03-20T06:50:33.604757Z",
     "shell.execute_reply": "2022-03-20T06:50:33.603866Z",
     "shell.execute_reply.started": "2022-03-20T06:50:33.069044Z"
    },
    "id": "zbKnvYyF0Jjb"
   },
   "outputs": [],
   "source": [
    "import string\n",
    "\n",
    "train['char_count'] = train['headline'].apply(len)\n",
    "train['word_count'] = train['headline'].apply(lambda x: len(x.split()))\n",
    "train['word_density'] = train['char_count'] / (train['word_count']+1)\n",
    "train['punctuation_count'] = train['headline'].apply(lambda x: len(\"\".join(_ for _ in x if _ in string.punctuation))) \n",
    "train['title_word_count'] = train['headline'].apply(lambda x: len([wrd for wrd in x.split() if wrd.istitle()]))\n",
    "train['upper_case_word_count'] = train['headline'].apply(lambda x: len([wrd for wrd in x.split() if wrd.isupper()]))\n",
    "\n",
    "\n",
    "test['char_count'] = test['headline'].apply(len)\n",
    "test['word_count'] = test['headline'].apply(lambda x: len(x.split()))\n",
    "test['word_density'] = test['char_count'] / (test['word_count']+1)\n",
    "test['punctuation_count'] = test['headline'].apply(lambda x: len(\"\".join(_ for _ in x if _ in string.punctuation))) \n",
    "test['title_word_count'] = test['headline'].apply(lambda x: len([wrd for wrd in x.split() if wrd.istitle()]))\n",
    "test['upper_case_word_count'] = test['headline'].apply(lambda x: len([wrd for wrd in x.split() if wrd.isupper()]))"
   ]
  },
  {
   "cell_type": "markdown",
   "metadata": {
    "id": "b-_wC5_507RS"
   },
   "source": [
    "## Using bag of words with N-gram\n",
    "\n",
    "\n",
    "### Dimensionality reduction using support vector decomposition"
   ]
  },
  {
   "cell_type": "code",
   "execution_count": 30,
   "metadata": {
    "execution": {
     "iopub.execute_input": "2022-03-20T06:50:33.606133Z",
     "iopub.status.busy": "2022-03-20T06:50:33.605905Z",
     "iopub.status.idle": "2022-03-20T06:50:35.123994Z",
     "shell.execute_reply": "2022-03-20T06:50:35.123124Z",
     "shell.execute_reply.started": "2022-03-20T06:50:33.606107Z"
    },
    "id": "OaCkzgbY0qt8"
   },
   "outputs": [],
   "source": [
    "CV = CountVectorizer(min_df=0.0, max_df=1.0, ngram_range=(1,1))\n",
    "trainCV = CV.fit_transform(train['headline_clean']).toarray()\n",
    "trainCV = pd.DataFrame(trainCV, columns=CV.get_feature_names())\n",
    "\n",
    "testCV = CV.fit_transform(test['headline_clean']).toarray()\n",
    "testCV = pd.DataFrame(testCV, columns=CV.get_feature_names())\n",
    "trainCV.head()"
   ]
  },
  {
   "cell_type": "code",
   "execution_count": 31,
   "metadata": {
    "execution": {
     "iopub.execute_input": "2022-03-20T06:50:35.126996Z",
     "iopub.status.busy": "2022-03-20T06:50:35.125346Z",
     "iopub.status.idle": "2022-03-20T06:50:35.130944Z",
     "shell.execute_reply": "2022-03-20T06:50:35.130251Z",
     "shell.execute_reply.started": "2022-03-20T06:50:35.126959Z"
    }
   },
   "outputs": [],
   "source": [
    "svd = TruncatedSVD(n_components=50)"
   ]
  },
  {
   "cell_type": "code",
   "execution_count": 32,
   "metadata": {
    "execution": {
     "iopub.execute_input": "2022-03-20T06:50:35.132376Z",
     "iopub.status.busy": "2022-03-20T06:50:35.132002Z",
     "iopub.status.idle": "2022-03-20T06:50:35.142187Z",
     "shell.execute_reply": "2022-03-20T06:50:35.141619Z",
     "shell.execute_reply.started": "2022-03-20T06:50:35.132331Z"
    }
   },
   "outputs": [],
   "source": [
    "n_comp = 50"
   ]
  },
  {
   "cell_type": "code",
   "execution_count": 33,
   "metadata": {
    "execution": {
     "iopub.execute_input": "2022-03-20T06:50:35.143563Z",
     "iopub.status.busy": "2022-03-20T06:50:35.143340Z",
     "iopub.status.idle": "2022-03-20T06:53:40.916707Z",
     "shell.execute_reply": "2022-03-20T06:53:40.915668Z",
     "shell.execute_reply.started": "2022-03-20T06:50:35.143538Z"
    }
   },
   "outputs": [],
   "source": [
    "svd_train = svd.fit_transform(trainCV)"
   ]
  },
  {
   "cell_type": "code",
   "execution_count": 34,
   "metadata": {
    "execution": {
     "iopub.execute_input": "2022-03-20T06:53:40.918019Z",
     "iopub.status.busy": "2022-03-20T06:53:40.917793Z",
     "iopub.status.idle": "2022-03-20T06:54:11.412318Z",
     "shell.execute_reply": "2022-03-20T06:54:11.411385Z",
     "shell.execute_reply.started": "2022-03-20T06:53:40.917993Z"
    }
   },
   "outputs": [],
   "source": [
    "svd_test = svd.fit_transform(testCV)"
   ]
  },
  {
   "cell_type": "code",
   "execution_count": 35,
   "metadata": {
    "execution": {
     "iopub.execute_input": "2022-03-20T06:54:11.413805Z",
     "iopub.status.busy": "2022-03-20T06:54:11.413559Z",
     "iopub.status.idle": "2022-03-20T06:54:11.420238Z",
     "shell.execute_reply": "2022-03-20T06:54:11.419281Z",
     "shell.execute_reply.started": "2022-03-20T06:54:11.413775Z"
    }
   },
   "outputs": [],
   "source": [
    "svd_train = pd.DataFrame(svd_train, columns=['svd_char_'+str(i) for i in range(n_comp)])\n",
    "svd_test = pd.DataFrame(svd_test, columns=['svd_char_'+str(i) for i in range(n_comp)])"
   ]
  },
  {
   "cell_type": "markdown",
   "metadata": {
    "id": "l-S11ibp2la-"
   },
   "source": [
    "### Using TF-idf features"
   ]
  },
  {
   "cell_type": "markdown",
   "metadata": {
    "id": "YiwipPwS6syF"
   },
   "source": [
    "tfv = TfidfVectorizer(\n",
    "            stop_words = 'english')\n",
    "\n",
    "traintfv = tfv.fit_transform(train['headline_clean']).toarray()\n",
    "traintfv = pd.DataFrame(traintfv, columns=tfv.get_feature_names())\n",
    "\n",
    "testtfv = tfv.fit_transform(test['headline_clean']).toarray()\n",
    "testtfv = pd.DataFrame(testtfv, columns=tfv.get_feature_names())\n",
    "traintfv.head()"
   ]
  },
  {
   "cell_type": "markdown",
   "metadata": {
    "id": "bADfmnRM61YM"
   },
   "source": [
    " ## combining the data"
   ]
  },
  {
   "cell_type": "code",
   "execution_count": 36,
   "metadata": {
    "execution": {
     "iopub.execute_input": "2022-03-20T06:54:11.422446Z",
     "iopub.status.busy": "2022-03-20T06:54:11.421830Z",
     "iopub.status.idle": "2022-03-20T06:54:11.451564Z",
     "shell.execute_reply": "2022-03-20T06:54:11.450770Z",
     "shell.execute_reply.started": "2022-03-20T06:54:11.422400Z"
    },
    "id": "8Uq2FlVw63ys"
   },
   "outputs": [],
   "source": [
    "data = pd.concat([train, svd_train], axis=1)\n",
    "test_data = pd.concat([test, svd_test], axis=1)"
   ]
  },
  {
   "cell_type": "code",
   "execution_count": 37,
   "metadata": {
    "execution": {
     "iopub.execute_input": "2022-03-20T06:54:11.453039Z",
     "iopub.status.busy": "2022-03-20T06:54:11.452824Z",
     "iopub.status.idle": "2022-03-20T06:54:11.457467Z",
     "shell.execute_reply": "2022-03-20T06:54:11.455458Z",
     "shell.execute_reply.started": "2022-03-20T06:54:11.453015Z"
    }
   },
   "outputs": [],
   "source": [
    "#data = pd.concat([train, trainCV], axis=1)\n",
    "#test_data = pd.concat([test, testCV], axis=1)"
   ]
  },
  {
   "cell_type": "code",
   "execution_count": 38,
   "metadata": {
    "execution": {
     "iopub.execute_input": "2022-03-20T06:54:11.459029Z",
     "iopub.status.busy": "2022-03-20T06:54:11.458741Z",
     "iopub.status.idle": "2022-03-20T06:54:11.489994Z",
     "shell.execute_reply": "2022-03-20T06:54:11.489139Z",
     "shell.execute_reply.started": "2022-03-20T06:54:11.458991Z"
    },
    "id": "Es7PqT2U7xWe"
   },
   "outputs": [],
   "source": [
    "X=data.drop(['is_sarcastic', 'headline', 'headline_clean'], axis=1)\n",
    "y=data['is_sarcastic']"
   ]
  },
  {
   "cell_type": "code",
   "execution_count": 39,
   "metadata": {
    "execution": {
     "iopub.execute_input": "2022-03-20T06:54:11.492041Z",
     "iopub.status.busy": "2022-03-20T06:54:11.491234Z",
     "iopub.status.idle": "2022-03-20T06:54:11.530779Z",
     "shell.execute_reply": "2022-03-20T06:54:11.530083Z",
     "shell.execute_reply.started": "2022-03-20T06:54:11.492001Z"
    }
   },
   "outputs": [],
   "source": [
    "# Separating the 80% data for training data and 20% for testing data\n",
    "X_train, X_test, y_train, y_test = train_test_split(X,y,test_size = 0.2, random_state =2021, stratify=y)"
   ]
  },
  {
   "cell_type": "code",
   "execution_count": 40,
   "metadata": {
    "execution": {
     "iopub.execute_input": "2022-03-20T06:54:11.532711Z",
     "iopub.status.busy": "2022-03-20T06:54:11.532021Z",
     "iopub.status.idle": "2022-03-20T06:54:11.538279Z",
     "shell.execute_reply": "2022-03-20T06:54:11.537648Z",
     "shell.execute_reply.started": "2022-03-20T06:54:11.532671Z"
    }
   },
   "outputs": [],
   "source": [
    "print('Shape of the X_train {}'.format(X_train.shape))\n",
    "print('Shape of the y_train {}'.format(y_train.shape))\n",
    "print('Shape of the X_test {}'.format(X_test.shape))\n",
    "print('Shape of the y_test {}'.format(y_test.shape))"
   ]
  },
  {
   "cell_type": "code",
   "execution_count": 41,
   "metadata": {
    "execution": {
     "iopub.execute_input": "2022-03-20T06:54:11.543067Z",
     "iopub.status.busy": "2022-03-20T06:54:11.542399Z",
     "iopub.status.idle": "2022-03-20T06:54:11.554622Z",
     "shell.execute_reply": "2022-03-20T06:54:11.553680Z",
     "shell.execute_reply.started": "2022-03-20T06:54:11.543036Z"
    }
   },
   "outputs": [],
   "source": [
    "algos = [LogisticRegression(), \n",
    "        RandomForestClassifier(max_depth=5,n_estimators=1000, max_features='auto', class_weight='balanced'),\n",
    "        DecisionTreeClassifier(max_depth=5),\n",
    "        CatBoostClassifier(eval_metric='Accuracy', metric_period=20, logging_level='Silent'),\n",
    "        LGBMClassifier(n_estimators=500),\n",
    "         XGBClassifier(max_depth=4, n_estimators=500)]\n",
    "\n",
    "names = ['Logistic_Regression',  'RandomForest','Decision_Tree','Catboost', 'Lightgbm', 'Xgboost']\n",
    "accuracy_list = []"
   ]
  },
  {
   "cell_type": "code",
   "execution_count": 42,
   "metadata": {
    "execution": {
     "iopub.execute_input": "2022-03-20T06:54:11.556131Z",
     "iopub.status.busy": "2022-03-20T06:54:11.555764Z",
     "iopub.status.idle": "2022-03-20T06:57:13.392229Z",
     "shell.execute_reply": "2022-03-20T06:57:13.391512Z",
     "shell.execute_reply.started": "2022-03-20T06:54:11.556090Z"
    }
   },
   "outputs": [],
   "source": [
    "for name in algos:\n",
    "    model = name\n",
    "    model.fit(X_train,y_train)\n",
    "    y_pred = model.predict(X_test)\n",
    "    accuracy= accuracy_score(y_test,y_pred)\n",
    "    accuracy_list.append(accuracy)"
   ]
  },
  {
   "cell_type": "code",
   "execution_count": 43,
   "metadata": {
    "execution": {
     "iopub.execute_input": "2022-03-20T06:57:13.394165Z",
     "iopub.status.busy": "2022-03-20T06:57:13.393381Z",
     "iopub.status.idle": "2022-03-20T06:57:13.400159Z",
     "shell.execute_reply": "2022-03-20T06:57:13.399522Z",
     "shell.execute_reply.started": "2022-03-20T06:57:13.394121Z"
    }
   },
   "outputs": [],
   "source": [
    "evaluation = pd.DataFrame({'Model': names,\n",
    "                           'Accuracy_Score': accuracy_list})"
   ]
  },
  {
   "cell_type": "code",
   "execution_count": 44,
   "metadata": {
    "execution": {
     "iopub.execute_input": "2022-03-20T06:57:13.402194Z",
     "iopub.status.busy": "2022-03-20T06:57:13.401699Z",
     "iopub.status.idle": "2022-03-20T06:57:13.420643Z",
     "shell.execute_reply": "2022-03-20T06:57:13.419942Z",
     "shell.execute_reply.started": "2022-03-20T06:57:13.402141Z"
    }
   },
   "outputs": [],
   "source": [
    "evaluation.sort_values(by='Accuracy_Score', ascending=False)"
   ]
  },
  {
   "cell_type": "code",
   "execution_count": 45,
   "metadata": {
    "execution": {
     "iopub.execute_input": "2022-03-20T06:57:13.422065Z",
     "iopub.status.busy": "2022-03-20T06:57:13.421734Z",
     "iopub.status.idle": "2022-03-20T06:57:13.551119Z",
     "shell.execute_reply": "2022-03-20T06:57:13.549998Z",
     "shell.execute_reply.started": "2022-03-20T06:57:13.422037Z"
    }
   },
   "outputs": [],
   "source": [
    "confusion_matrix(y_test, algos[4].predict(X_test))"
   ]
  },
  {
   "cell_type": "code",
   "execution_count": 46,
   "metadata": {
    "execution": {
     "iopub.execute_input": "2022-03-20T06:57:13.555644Z",
     "iopub.status.busy": "2022-03-20T06:57:13.554489Z",
     "iopub.status.idle": "2022-03-20T06:57:13.581569Z",
     "shell.execute_reply": "2022-03-20T06:57:13.580737Z",
     "shell.execute_reply.started": "2022-03-20T06:57:13.555590Z"
    }
   },
   "outputs": [],
   "source": [
    "confusion_matrix(y_test, algos[3].predict(X_test))"
   ]
  },
  {
   "cell_type": "code",
   "execution_count": 47,
   "metadata": {
    "execution": {
     "iopub.execute_input": "2022-03-20T06:57:13.582652Z",
     "iopub.status.busy": "2022-03-20T06:57:13.582402Z",
     "iopub.status.idle": "2022-03-20T06:57:13.754253Z",
     "shell.execute_reply": "2022-03-20T06:57:13.753439Z",
     "shell.execute_reply.started": "2022-03-20T06:57:13.582624Z"
    }
   },
   "outputs": [],
   "source": [
    "rcParams['figure.figsize'] = 15,8\n",
    "sns.barplot(data=evaluation,x='Model', y='Accuracy_Score')"
   ]
  },
  {
   "cell_type": "markdown",
   "metadata": {},
   "source": [
    "Lightgbm is the best model"
   ]
  },
  {
   "cell_type": "markdown",
   "metadata": {},
   "source": [
    "### PREDICT THE TEST DATA"
   ]
  },
  {
   "cell_type": "code",
   "execution_count": 48,
   "metadata": {
    "execution": {
     "iopub.execute_input": "2022-03-20T06:57:13.756182Z",
     "iopub.status.busy": "2022-03-20T06:57:13.755496Z",
     "iopub.status.idle": "2022-03-20T06:57:13.767760Z",
     "shell.execute_reply": "2022-03-20T06:57:13.766454Z",
     "shell.execute_reply.started": "2022-03-20T06:57:13.756134Z"
    }
   },
   "outputs": [],
   "source": [
    "X=data.drop(['is_sarcastic', 'headline', 'headline_clean'], axis=1)\n",
    "y=data['is_sarcastic']"
   ]
  },
  {
   "cell_type": "code",
   "execution_count": 49,
   "metadata": {
    "execution": {
     "iopub.execute_input": "2022-03-20T06:57:13.769543Z",
     "iopub.status.busy": "2022-03-20T06:57:13.769193Z",
     "iopub.status.idle": "2022-03-20T06:57:13.812487Z",
     "shell.execute_reply": "2022-03-20T06:57:13.811697Z",
     "shell.execute_reply.started": "2022-03-20T06:57:13.769499Z"
    }
   },
   "outputs": [],
   "source": [
    "# Separating the 80% data for training data and 20% for testing data\n",
    "X_train, X_test, y_train, y_test = train_test_split(X,y,test_size = 0.2, random_state =2021, stratify=y)"
   ]
  },
  {
   "cell_type": "code",
   "execution_count": 50,
   "metadata": {
    "execution": {
     "iopub.execute_input": "2022-03-20T06:57:13.814724Z",
     "iopub.status.busy": "2022-03-20T06:57:13.814400Z",
     "iopub.status.idle": "2022-03-20T06:57:13.825759Z",
     "shell.execute_reply": "2022-03-20T06:57:13.824686Z",
     "shell.execute_reply.started": "2022-03-20T06:57:13.814682Z"
    }
   },
   "outputs": [],
   "source": [
    "test_data = test_data.drop(['headline', 'headline_clean'], axis=1)"
   ]
  },
  {
   "cell_type": "code",
   "execution_count": 51,
   "metadata": {
    "execution": {
     "iopub.execute_input": "2022-03-20T06:57:13.827121Z",
     "iopub.status.busy": "2022-03-20T06:57:13.826884Z",
     "iopub.status.idle": "2022-03-20T06:57:13.833724Z",
     "shell.execute_reply": "2022-03-20T06:57:13.832834Z",
     "shell.execute_reply.started": "2022-03-20T06:57:13.827096Z"
    }
   },
   "outputs": [],
   "source": [
    "model = LGBMClassifier(num_leaves=102, colsample_bytree=0.7, subsample=0.9)#LGBMClassifier(n_estimators=500)"
   ]
  },
  {
   "cell_type": "code",
   "execution_count": 52,
   "metadata": {
    "execution": {
     "iopub.execute_input": "2022-03-20T06:57:13.835409Z",
     "iopub.status.busy": "2022-03-20T06:57:13.835076Z",
     "iopub.status.idle": "2022-03-20T06:57:15.837767Z",
     "shell.execute_reply": "2022-03-20T06:57:15.837018Z",
     "shell.execute_reply.started": "2022-03-20T06:57:13.835369Z"
    }
   },
   "outputs": [],
   "source": [
    "model.fit(X,y)"
   ]
  },
  {
   "cell_type": "code",
   "execution_count": 53,
   "metadata": {
    "execution": {
     "iopub.execute_input": "2022-03-20T06:57:15.839069Z",
     "iopub.status.busy": "2022-03-20T06:57:15.838845Z",
     "iopub.status.idle": "2022-03-20T06:57:15.845285Z",
     "shell.execute_reply": "2022-03-20T06:57:15.844419Z",
     "shell.execute_reply.started": "2022-03-20T06:57:15.839041Z"
    }
   },
   "outputs": [],
   "source": [
    "test_data.shape"
   ]
  },
  {
   "cell_type": "code",
   "execution_count": 54,
   "metadata": {
    "execution": {
     "iopub.execute_input": "2022-03-20T06:57:15.847413Z",
     "iopub.status.busy": "2022-03-20T06:57:15.846692Z",
     "iopub.status.idle": "2022-03-20T06:57:15.906680Z",
     "shell.execute_reply": "2022-03-20T06:57:15.906009Z",
     "shell.execute_reply.started": "2022-03-20T06:57:15.847367Z"
    }
   },
   "outputs": [],
   "source": [
    "test_prediction = model.predict(test_data)"
   ]
  },
  {
   "cell_type": "code",
   "execution_count": 55,
   "metadata": {
    "execution": {
     "iopub.execute_input": "2022-03-20T06:57:15.911628Z",
     "iopub.status.busy": "2022-03-20T06:57:15.910630Z",
     "iopub.status.idle": "2022-03-20T06:57:15.917226Z",
     "shell.execute_reply": "2022-03-20T06:57:15.916454Z",
     "shell.execute_reply.started": "2022-03-20T06:57:15.911578Z"
    }
   },
   "outputs": [],
   "source": [
    "test_prediction"
   ]
  },
  {
   "cell_type": "code",
   "execution_count": 56,
   "metadata": {
    "execution": {
     "iopub.execute_input": "2022-03-20T06:57:15.919425Z",
     "iopub.status.busy": "2022-03-20T06:57:15.918632Z",
     "iopub.status.idle": "2022-03-20T06:57:15.930847Z",
     "shell.execute_reply": "2022-03-20T06:57:15.929945Z",
     "shell.execute_reply.started": "2022-03-20T06:57:15.919298Z"
    }
   },
   "outputs": [],
   "source": [
    "submit = pd.DataFrame(test_prediction, columns=['prediction'])"
   ]
  },
  {
   "cell_type": "code",
   "execution_count": 57,
   "metadata": {
    "execution": {
     "iopub.execute_input": "2022-03-20T06:57:15.932447Z",
     "iopub.status.busy": "2022-03-20T06:57:15.932148Z",
     "iopub.status.idle": "2022-03-20T06:57:15.951207Z",
     "shell.execute_reply": "2022-03-20T06:57:15.950432Z",
     "shell.execute_reply.started": "2022-03-20T06:57:15.932412Z"
    }
   },
   "outputs": [],
   "source": [
    "submit.head()"
   ]
  },
  {
   "cell_type": "code",
   "execution_count": 58,
   "metadata": {
    "execution": {
     "iopub.execute_input": "2022-03-20T06:57:15.953005Z",
     "iopub.status.busy": "2022-03-20T06:57:15.952613Z",
     "iopub.status.idle": "2022-03-20T06:57:15.967749Z",
     "shell.execute_reply": "2022-03-20T06:57:15.966071Z",
     "shell.execute_reply.started": "2022-03-20T06:57:15.952953Z"
    }
   },
   "outputs": [],
   "source": [
    "submit['prediction'].value_counts()"
   ]
  },
  {
   "cell_type": "code",
   "execution_count": 59,
   "metadata": {
    "execution": {
     "iopub.execute_input": "2022-03-20T06:57:15.969428Z",
     "iopub.status.busy": "2022-03-20T06:57:15.969091Z",
     "iopub.status.idle": "2022-03-20T06:57:15.991095Z",
     "shell.execute_reply": "2022-03-20T06:57:15.990424Z",
     "shell.execute_reply.started": "2022-03-20T06:57:15.969394Z"
    }
   },
   "outputs": [],
   "source": [
    "submit.to_csv('ssb7.csv', index=False)"
   ]
  },
  {
   "cell_type": "code",
   "execution_count": null,
   "metadata": {},
   "outputs": [],
   "source": []
  }
 ],
 "metadata": {
  "kernelspec": {
   "display_name": "Python 3 (ipykernel)",
   "language": "python",
   "name": "python3"
  },
  "language_info": {
   "codemirror_mode": {
    "name": "ipython",
    "version": 3
   },
   "file_extension": ".py",
   "mimetype": "text/x-python",
   "name": "python",
   "nbconvert_exporter": "python",
   "pygments_lexer": "ipython3",
   "version": "3.9.7"
  }
 },
 "nbformat": 4,
 "nbformat_minor": 4
}
