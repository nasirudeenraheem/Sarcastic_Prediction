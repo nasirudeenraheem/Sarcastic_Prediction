{
  "nbformat": 4,
  "nbformat_minor": 0,
  "metadata": {
    "colab": {
      "name": "sarcastic_prediction.ipynb",
      "provenance": [],
      "collapsed_sections": []
    },
    "kernelspec": {
      "name": "python3",
      "display_name": "Python 3"
    },
    "language_info": {
      "name": "python"
    },
    "accelerator": "GPU"
  },
  "cells": [
    {
      "cell_type": "markdown",
      "source": [
        "### Problem Statement\n",
        "\n",
        "In this challenge, you will work on a dataset that contains news headlines - which are aimed to be written in a sarcastic manner by the news author. Our job here is to build our NLP models and predict whether the headline is sarcastic or not.\n",
        "\n",
        "Evaluation metrics - Accuracy score"
      ],
      "metadata": {
        "id": "T18tpEszl37W"
      }
    },
    {
      "cell_type": "code",
      "source": [
        "!pip install contractions"
      ],
      "metadata": {
        "colab": {
          "base_uri": "https://localhost:8080/"
        },
        "id": "OC2Bd80Kq1EG",
        "outputId": "0bd5765e-639e-4c6f-d295-d22aa35e8a83"
      },
      "execution_count": 1,
      "outputs": [
        {
          "output_type": "stream",
          "name": "stdout",
          "text": [
            "Requirement already satisfied: contractions in /usr/local/lib/python3.7/dist-packages (0.1.66)\n",
            "Requirement already satisfied: textsearch>=0.0.21 in /usr/local/lib/python3.7/dist-packages (from contractions) (0.0.21)\n",
            "Requirement already satisfied: pyahocorasick in /usr/local/lib/python3.7/dist-packages (from textsearch>=0.0.21->contractions) (1.4.4)\n",
            "Requirement already satisfied: anyascii in /usr/local/lib/python3.7/dist-packages (from textsearch>=0.0.21->contractions) (0.3.0)\n"
          ]
        }
      ]
    },
    {
      "cell_type": "code",
      "execution_count": 2,
      "metadata": {
        "colab": {
          "base_uri": "https://localhost:8080/"
        },
        "id": "WFGioNmnXmvI",
        "outputId": "26ff5da9-a157-46c8-8424-41a25d659f9c"
      },
      "outputs": [
        {
          "output_type": "stream",
          "name": "stdout",
          "text": [
            "[nltk_data] Downloading package stopwords to /root/nltk_data...\n",
            "[nltk_data]   Package stopwords is already up-to-date!\n",
            "[nltk_data] Downloading package wordnet to /root/nltk_data...\n",
            "[nltk_data]   Package wordnet is already up-to-date!\n"
          ]
        }
      ],
      "source": [
        "import pandas as pd\n",
        "import numpy as np\n",
        "import seaborn as sns\n",
        "import matplotlib.pyplot as plt\n",
        "from matplotlib import style,rcParams\n",
        "style.use('seaborn-white')\n",
        "import warnings\n",
        "warnings.filterwarnings('ignore')\n",
        "import re\n",
        "%matplotlib inline\n",
        "\n",
        "import nltk\n",
        "from nltk.corpus import stopwords\n",
        "from nltk.stem import WordNetLemmatizer\n",
        "nltk.download('stopwords')\n",
        "nltk.download('wordnet')\n",
        "from wordcloud import WordCloud\n",
        "import wordcloud\n",
        "import string\n",
        "\n",
        "import itertools\n",
        "import collections\n",
        "from collections import Counter\n",
        "\n",
        "import nltk\n",
        "import contractions\n",
        "import re\n",
        "\n",
        "import textblob\n",
        "\n",
        "## for feature extraction\n",
        "\n",
        "from sklearn.feature_extraction.text import CountVectorizer, TfidfVectorizer"
      ]
    },
    {
      "cell_type": "code",
      "source": [
        "def without_hue(plot, feature):\n",
        "    total = len(feature)\n",
        "    for p in ax.patches:\n",
        "        percentage = '{:.1f}%'.format(100 * p.get_height()/total)\n",
        "        x = p.get_x() + p.get_width() / 2 - 0.05\n",
        "        y = p.get_y() + p.get_height()\n",
        "        ax.annotate(percentage, (x, y), size = 12)\n",
        "    plt.show()"
      ],
      "metadata": {
        "id": "Lk3ftw7VZ7eq"
      },
      "execution_count": 3,
      "outputs": []
    },
    {
      "cell_type": "code",
      "source": [
        "train = pd.read_csv('/content/Train_Dataset.csv')\n",
        "test = pd.read_csv('/content/Test_Dataset.csv')"
      ],
      "metadata": {
        "id": "yFAW3fULZcXS"
      },
      "execution_count": 4,
      "outputs": []
    },
    {
      "cell_type": "code",
      "source": [
        "train.head()"
      ],
      "metadata": {
        "colab": {
          "base_uri": "https://localhost:8080/",
          "height": 206
        },
        "id": "ucuyLkniZjws",
        "outputId": "761f494d-9582-4812-cf8b-dff2105c5d6b"
      },
      "execution_count": 5,
      "outputs": [
        {
          "output_type": "execute_result",
          "data": {
            "text/html": [
              "\n",
              "  <div id=\"df-e3deade4-cceb-4773-84c5-4feca128f555\">\n",
              "    <div class=\"colab-df-container\">\n",
              "      <div>\n",
              "<style scoped>\n",
              "    .dataframe tbody tr th:only-of-type {\n",
              "        vertical-align: middle;\n",
              "    }\n",
              "\n",
              "    .dataframe tbody tr th {\n",
              "        vertical-align: top;\n",
              "    }\n",
              "\n",
              "    .dataframe thead th {\n",
              "        text-align: right;\n",
              "    }\n",
              "</style>\n",
              "<table border=\"1\" class=\"dataframe\">\n",
              "  <thead>\n",
              "    <tr style=\"text-align: right;\">\n",
              "      <th></th>\n",
              "      <th>headline</th>\n",
              "      <th>is_sarcastic</th>\n",
              "    </tr>\n",
              "  </thead>\n",
              "  <tbody>\n",
              "    <tr>\n",
              "      <th>0</th>\n",
              "      <td>supreme court votes 7-2 to legalize all worldl...</td>\n",
              "      <td>1</td>\n",
              "    </tr>\n",
              "    <tr>\n",
              "      <th>1</th>\n",
              "      <td>hungover man horrified to learn he made dozens...</td>\n",
              "      <td>1</td>\n",
              "    </tr>\n",
              "    <tr>\n",
              "      <th>2</th>\n",
              "      <td>emily's list founder: women are the 'problem s...</td>\n",
              "      <td>0</td>\n",
              "    </tr>\n",
              "    <tr>\n",
              "      <th>3</th>\n",
              "      <td>send your kids back to school with confidence</td>\n",
              "      <td>0</td>\n",
              "    </tr>\n",
              "    <tr>\n",
              "      <th>4</th>\n",
              "      <td>watch: experts talk pesticides and health</td>\n",
              "      <td>0</td>\n",
              "    </tr>\n",
              "  </tbody>\n",
              "</table>\n",
              "</div>\n",
              "      <button class=\"colab-df-convert\" onclick=\"convertToInteractive('df-e3deade4-cceb-4773-84c5-4feca128f555')\"\n",
              "              title=\"Convert this dataframe to an interactive table.\"\n",
              "              style=\"display:none;\">\n",
              "        \n",
              "  <svg xmlns=\"http://www.w3.org/2000/svg\" height=\"24px\"viewBox=\"0 0 24 24\"\n",
              "       width=\"24px\">\n",
              "    <path d=\"M0 0h24v24H0V0z\" fill=\"none\"/>\n",
              "    <path d=\"M18.56 5.44l.94 2.06.94-2.06 2.06-.94-2.06-.94-.94-2.06-.94 2.06-2.06.94zm-11 1L8.5 8.5l.94-2.06 2.06-.94-2.06-.94L8.5 2.5l-.94 2.06-2.06.94zm10 10l.94 2.06.94-2.06 2.06-.94-2.06-.94-.94-2.06-.94 2.06-2.06.94z\"/><path d=\"M17.41 7.96l-1.37-1.37c-.4-.4-.92-.59-1.43-.59-.52 0-1.04.2-1.43.59L10.3 9.45l-7.72 7.72c-.78.78-.78 2.05 0 2.83L4 21.41c.39.39.9.59 1.41.59.51 0 1.02-.2 1.41-.59l7.78-7.78 2.81-2.81c.8-.78.8-2.07 0-2.86zM5.41 20L4 18.59l7.72-7.72 1.47 1.35L5.41 20z\"/>\n",
              "  </svg>\n",
              "      </button>\n",
              "      \n",
              "  <style>\n",
              "    .colab-df-container {\n",
              "      display:flex;\n",
              "      flex-wrap:wrap;\n",
              "      gap: 12px;\n",
              "    }\n",
              "\n",
              "    .colab-df-convert {\n",
              "      background-color: #E8F0FE;\n",
              "      border: none;\n",
              "      border-radius: 50%;\n",
              "      cursor: pointer;\n",
              "      display: none;\n",
              "      fill: #1967D2;\n",
              "      height: 32px;\n",
              "      padding: 0 0 0 0;\n",
              "      width: 32px;\n",
              "    }\n",
              "\n",
              "    .colab-df-convert:hover {\n",
              "      background-color: #E2EBFA;\n",
              "      box-shadow: 0px 1px 2px rgba(60, 64, 67, 0.3), 0px 1px 3px 1px rgba(60, 64, 67, 0.15);\n",
              "      fill: #174EA6;\n",
              "    }\n",
              "\n",
              "    [theme=dark] .colab-df-convert {\n",
              "      background-color: #3B4455;\n",
              "      fill: #D2E3FC;\n",
              "    }\n",
              "\n",
              "    [theme=dark] .colab-df-convert:hover {\n",
              "      background-color: #434B5C;\n",
              "      box-shadow: 0px 1px 3px 1px rgba(0, 0, 0, 0.15);\n",
              "      filter: drop-shadow(0px 1px 2px rgba(0, 0, 0, 0.3));\n",
              "      fill: #FFFFFF;\n",
              "    }\n",
              "  </style>\n",
              "\n",
              "      <script>\n",
              "        const buttonEl =\n",
              "          document.querySelector('#df-e3deade4-cceb-4773-84c5-4feca128f555 button.colab-df-convert');\n",
              "        buttonEl.style.display =\n",
              "          google.colab.kernel.accessAllowed ? 'block' : 'none';\n",
              "\n",
              "        async function convertToInteractive(key) {\n",
              "          const element = document.querySelector('#df-e3deade4-cceb-4773-84c5-4feca128f555');\n",
              "          const dataTable =\n",
              "            await google.colab.kernel.invokeFunction('convertToInteractive',\n",
              "                                                     [key], {});\n",
              "          if (!dataTable) return;\n",
              "\n",
              "          const docLinkHtml = 'Like what you see? Visit the ' +\n",
              "            '<a target=\"_blank\" href=https://colab.research.google.com/notebooks/data_table.ipynb>data table notebook</a>'\n",
              "            + ' to learn more about interactive tables.';\n",
              "          element.innerHTML = '';\n",
              "          dataTable['output_type'] = 'display_data';\n",
              "          await google.colab.output.renderOutput(dataTable, element);\n",
              "          const docLink = document.createElement('div');\n",
              "          docLink.innerHTML = docLinkHtml;\n",
              "          element.appendChild(docLink);\n",
              "        }\n",
              "      </script>\n",
              "    </div>\n",
              "  </div>\n",
              "  "
            ],
            "text/plain": [
              "                                            headline  is_sarcastic\n",
              "0  supreme court votes 7-2 to legalize all worldl...             1\n",
              "1  hungover man horrified to learn he made dozens...             1\n",
              "2  emily's list founder: women are the 'problem s...             0\n",
              "3      send your kids back to school with confidence             0\n",
              "4          watch: experts talk pesticides and health             0"
            ]
          },
          "metadata": {},
          "execution_count": 5
        }
      ]
    },
    {
      "cell_type": "code",
      "source": [
        "print('we have {} rows in our trainmset'.format(train.shape[0]))\n",
        "print('we have {} columns in our train set'.format(train.shape[1]))"
      ],
      "metadata": {
        "colab": {
          "base_uri": "https://localhost:8080/"
        },
        "id": "RY2BcrERZ3q9",
        "outputId": "244a7831-7613-425d-e93a-ec7d692edd9f"
      },
      "execution_count": 6,
      "outputs": [
        {
          "output_type": "stream",
          "name": "stdout",
          "text": [
            "we have 44262 rows in our trainmset\n",
            "we have 2 columns in our train set\n"
          ]
        }
      ]
    },
    {
      "cell_type": "code",
      "source": [
        "print('we have {} rows in our test set'.format(test.shape[0]))\n",
        "print('we have {} columns in our test set'.format(test.shape[1]))"
      ],
      "metadata": {
        "colab": {
          "base_uri": "https://localhost:8080/"
        },
        "id": "gwcXY9ObaNF3",
        "outputId": "1b0215fb-2856-4f95-97b2-2604b1ef7e51"
      },
      "execution_count": 7,
      "outputs": [
        {
          "output_type": "stream",
          "name": "stdout",
          "text": [
            "we have 11066 rows in our test set\n",
            "we have 1 columns in our test set\n"
          ]
        }
      ]
    },
    {
      "cell_type": "markdown",
      "source": [
        "### EDA on the data"
      ],
      "metadata": {
        "id": "CmqJoh1BZm9o"
      }
    },
    {
      "cell_type": "code",
      "source": [
        "ax = sns.countplot(x='is_sarcastic', data=train, order = train['is_sarcastic'].value_counts().index)\n",
        "without_hue(ax, train['is_sarcastic'])"
      ],
      "metadata": {
        "colab": {
          "base_uri": "https://localhost:8080/",
          "height": 277
        },
        "id": "6zCl9B28ZlFz",
        "outputId": "ad74a55e-e27a-4dc0-8659-273cac19dc78"
      },
      "execution_count": 8,
      "outputs": [
        {
          "output_type": "display_data",
          "data": {
            "image/png": "[encoded data removed]",
            "text/plain": [
              "<Figure size 432x288 with 1 Axes>"
            ]
          },
          "metadata": {
            "needs_background": "light"
          }
        }
      ]
    },
    {
      "cell_type": "markdown",
      "source": [
        "The dataset is slightly balanced"
      ],
      "metadata": {
        "id": "ZwKw_96Rar3v"
      }
    },
    {
      "cell_type": "code",
      "source": [
        "train['headline'].iloc[6]"
      ],
      "metadata": {
        "colab": {
          "base_uri": "https://localhost:8080/",
          "height": 35
        },
        "id": "O9PGVeqPav6C",
        "outputId": "9b371cb3-f359-4853-e0e0-80f9455c939b"
      },
      "execution_count": 9,
      "outputs": [
        {
          "output_type": "execute_result",
          "data": {
            "application/vnd.google.colaboratory.intrinsic+json": {
              "type": "string"
            },
            "text/plain": [
              "'u.s. dignity reserves nearly depleted'"
            ]
          },
          "metadata": {},
          "execution_count": 9
        }
      ]
    },
    {
      "cell_type": "markdown",
      "source": [
        "## Analyze the data using wordcloud"
      ],
      "metadata": {
        "id": "deZ3gRCOkHXc"
      }
    },
    {
      "cell_type": "code",
      "source": [
        "data_word = train['headline']\n",
        "plt.figure(figsize = (20,20))\n",
        "wc = WordCloud(stopwords=wordcloud.STOPWORDS, max_words = 5000 , width = 1600 , height = 800,\n",
        "               collocations=False).generate(\" \".join(data_word))\n",
        "plt.imshow(wc,interpolation='bilinear')"
      ],
      "metadata": {
        "id": "jiYhmEMihqVT"
      },
      "execution_count": null,
      "outputs": []
    },
    {
      "cell_type": "markdown",
      "source": [
        "The word cloud simply define that the headline is about a nation called american and consistent of EX president Donald Trump and Obama."
      ],
      "metadata": {
        "id": "AxyZ4FHIksqH"
      }
    },
    {
      "cell_type": "markdown",
      "source": [
        "### Word cloud based on each label\n",
        "\n",
        "1 - for sarcastic record\n",
        "\n",
        "0 - for non sarcastic record"
      ],
      "metadata": {
        "id": "wPNH__W8lv6U"
      }
    },
    {
      "cell_type": "code",
      "source": [
        "sarcastic = train[train['is_sarcastic'] == 1].reset_index(drop=True)\n",
        "\n",
        "non_sarcastic = train[train['is_sarcastic'] == 0].reset_index(drop=True)\n"
      ],
      "metadata": {
        "id": "ismM7sGPkXaK"
      },
      "execution_count": null,
      "outputs": []
    },
    {
      "cell_type": "code",
      "source": [
        "print(sarcastic.shape)\n",
        "print(non_sarcastic.shape)"
      ],
      "metadata": {
        "id": "AxM9wdLZmah0"
      },
      "execution_count": null,
      "outputs": []
    },
    {
      "cell_type": "code",
      "source": [
        "sarcastic_word = sarcastic['headline']\n",
        "plt.figure(figsize = (20,20))\n",
        "wc = WordCloud(stopwords=wordcloud.STOPWORDS,max_words =5000 , width = 1600 , height = 800,background_color=\"white\",\n",
        "               collocations=False).generate(\" \".join(sarcastic_word))\n",
        "plt.imshow(wc, interpolation='bilinear')"
      ],
      "metadata": {
        "id": "4oS2oOYwmidk"
      },
      "execution_count": null,
      "outputs": []
    },
    {
      "cell_type": "markdown",
      "source": [
        "Most word are new, man and report"
      ],
      "metadata": {
        "id": "hBkW3KwenlQk"
      }
    },
    {
      "cell_type": "code",
      "source": [
        "non_sarcastic_word = non_sarcastic['headline']\n",
        "plt.figure(figsize = (20,20))\n",
        "wc = WordCloud(stopwords=wordcloud.STOPWORDS,max_words = 5000 , width = 1600 , height = 800,background_color=\"white\",\n",
        "               collocations=False).generate(\" \".join(non_sarcastic_word))\n",
        "plt.imshow(wc, interpolation='bilinear')"
      ],
      "metadata": {
        "id": "D1Z-zlfZnbeN"
      },
      "execution_count": null,
      "outputs": []
    },
    {
      "cell_type": "markdown",
      "source": [
        "Most word are focus on donald Trump"
      ],
      "metadata": {
        "id": "BUpSLc47n7Eo"
      }
    },
    {
      "cell_type": "markdown",
      "source": [
        "### Data Preprocessing\n",
        "\n",
        "In this section we are going to clean our text data "
      ],
      "metadata": {
        "id": "wswOcqKWo2qW"
      }
    },
    {
      "cell_type": "code",
      "source": [
        "# remove some stopwords to capture negation in n-grams if possible\n",
        "stop_words = nltk.corpus.stopwords.words('english')\n",
        "stop_words.remove('no')\n",
        "stop_words.remove('not')\n",
        "stop_words.remove('your')\n",
        "\n",
        "# load up a for wordnet\n",
        "wnl = nltk.stem.WordNetLemmatizer()\n",
        "\n",
        "def simple_text_preprocessor(document): \n",
        "    # lower case\n",
        "    document = str(document).lower()\n",
        "    \n",
        "    # expand contractions\n",
        "    document = contractions.fix(document)\n",
        "    \n",
        "    # remove unnecessary characters\n",
        "    document = re.sub(r'[^a-zA-Z]',r' ', document)\n",
        "    document = re.sub(r'nbsp', r'', document)\n",
        "    document = re.sub(' +', ' ', document)\n",
        "    \n",
        "    # simple porter stemming\n",
        "    document = ' '.join([wnl.lemmatize(word) for word in document.split()])\n",
        "    \n",
        "    # stopwords removal\n",
        "    document = ' '.join([word for word in document.split() if word not in stop_words])\n",
        "    \n",
        "    return document\n",
        "\n",
        "clean_text = np.vectorize(simple_text_preprocessor)"
      ],
      "metadata": {
        "id": "OlX24Q11n3JH"
      },
      "execution_count": null,
      "outputs": []
    },
    {
      "cell_type": "markdown",
      "source": [
        "The above function is inspired by **Dipanjan Sarkar**"
      ],
      "metadata": {
        "id": "y8tloJmvr6yl"
      }
    },
    {
      "cell_type": "code",
      "source": [
        "train['headline_clean'] = clean_text(train['headline'].values)\n",
        "test['headline_clean'] = clean_text(test['headline'].values)"
      ],
      "metadata": {
        "id": "28YYRvt4pBHJ"
      },
      "execution_count": null,
      "outputs": []
    },
    {
      "cell_type": "code",
      "source": [
        "train.head()"
      ],
      "metadata": {
        "id": "oPE23VVTpFNA"
      },
      "execution_count": null,
      "outputs": []
    },
    {
      "cell_type": "markdown",
      "source": [
        "### Data Visualization2 \n",
        "\n",
        "Check the top 10 words after removing noise (stopword) from the data."
      ],
      "metadata": {
        "id": "mwWB5v16uQ-g"
      }
    },
    {
      "cell_type": "code",
      "source": [
        "cw = pd.DataFrame(Counter(\" \".join(train[\"headline_clean\"]).split()).most_common(10),columns=['words', 'count'])"
      ],
      "metadata": {
        "id": "0hqMJTz5sv2D"
      },
      "execution_count": null,
      "outputs": []
    },
    {
      "cell_type": "code",
      "source": [
        "fig, ax = plt.subplots(figsize=(8, 8))\n",
        "\n",
        "# Plot horizontal bar graph\n",
        "cw.sort_values(by='count').plot.barh(x='words',\n",
        "                      y='count',\n",
        "                      ax=ax,\n",
        "                      color=\"blue\")\n",
        "\n",
        "ax.set_title(\"Common Words Found in Tweets \")\n",
        "\n",
        "plt.show()"
      ],
      "metadata": {
        "id": "a7ukAipku1EI"
      },
      "execution_count": null,
      "outputs": []
    },
    {
      "cell_type": "markdown",
      "source": [
        "Top 10 common word in the whole headline"
      ],
      "metadata": {
        "id": "8tu_YHq0vB8s"
      }
    },
    {
      "cell_type": "code",
      "source": [
        "new_sarcastic = train[train['is_sarcastic'] == 1].reset_index(drop=True)\n",
        "\n",
        "new_non_sarcastic = train[train['is_sarcastic'] == 0].reset_index(drop=True)\n"
      ],
      "metadata": {
        "id": "li0gU6zVu5zw"
      },
      "execution_count": null,
      "outputs": []
    },
    {
      "cell_type": "code",
      "source": [
        "ns = pd.DataFrame(Counter(\" \".join(new_sarcastic[\"headline_clean\"]).split()).most_common(10),columns=['words', 'count'])"
      ],
      "metadata": {
        "id": "Xumy1eVHvMYi"
      },
      "execution_count": null,
      "outputs": []
    },
    {
      "cell_type": "code",
      "source": [
        "fig, ax = plt.subplots(figsize=(8, 8))\n",
        "\n",
        "# Plot horizontal bar graph\n",
        "ns.sort_values(by='count').plot.barh(x='words',\n",
        "                      y='count',\n",
        "                      ax=ax,\n",
        "                      color=\"red\")\n",
        "\n",
        "ax.set_title(\"Common Words Found in Tweets of sarcastic headline\")\n",
        "\n",
        "plt.show()"
      ],
      "metadata": {
        "id": "POPNZ5OvvgeV"
      },
      "execution_count": null,
      "outputs": []
    },
    {
      "cell_type": "markdown",
      "source": [
        "Top 10 common word found in sarcastic word."
      ],
      "metadata": {
        "id": "hKpG9EeivqhA"
      }
    },
    {
      "cell_type": "code",
      "source": [
        "nns = pd.DataFrame(Counter(\" \".join(new_non_sarcastic[\"headline_clean\"]).split()).most_common(10),columns=['words', 'count'])"
      ],
      "metadata": {
        "id": "pUxZG-wdvoAy"
      },
      "execution_count": null,
      "outputs": []
    },
    {
      "cell_type": "code",
      "source": [
        "fig, ax = plt.subplots(figsize=(8, 8))\n",
        "\n",
        "# Plot horizontal bar graph\n",
        "nns.sort_values(by='count').plot.barh(x='words',\n",
        "                      y='count',\n",
        "                      ax=ax,\n",
        "                      color=\"black\")\n",
        "\n",
        "ax.set_title(\"Common Words Found in Tweets of non_sarcastic word\")\n",
        "\n",
        "plt.show()"
      ],
      "metadata": {
        "id": "IY8IXunGv0GE"
      },
      "execution_count": null,
      "outputs": []
    },
    {
      "cell_type": "markdown",
      "source": [
        "Top 10 word found in non sarcastic word"
      ],
      "metadata": {
        "id": "Gh9zjYMrwDax"
      }
    },
    {
      "cell_type": "markdown",
      "source": [
        "### Feature engineering \n",
        "\n",
        "1. The first pre-processing is to enrich the data using sentiment analysis of each text\n",
        "\n",
        "2. counting the word text\n",
        "\n",
        "3. Using count word\n",
        "\n",
        "4. "
      ],
      "metadata": {
        "id": "63_afHfrwHDO"
      }
    },
    {
      "cell_type": "code",
      "source": [
        "train_sentiment_features = train['headline'].apply(lambda row: textblob.TextBlob(row).sentiment)\n",
        "train['Polarity'] = [obj.polarity for obj in train_sentiment_features.values]\n",
        "train['Subjectivity'] = [obj.subjectivity for obj in train_sentiment_features.values]\n",
        "\n",
        "test_sentiment_features = test['headline'].apply(lambda row: textblob.TextBlob(row).sentiment)\n",
        "test['Polarity'] = [obj.polarity for obj in test_sentiment_features.values]\n",
        "test['Subjectivity'] = [obj.subjectivity for obj in test_sentiment_features.values]"
      ],
      "metadata": {
        "id": "tTAv7HEIxZHc"
      },
      "execution_count": null,
      "outputs": []
    },
    {
      "cell_type": "code",
      "source": [
        "train.head()"
      ],
      "metadata": {
        "id": "6EbqkIDX0FRX"
      },
      "execution_count": null,
      "outputs": []
    },
    {
      "cell_type": "code",
      "source": [
        "import string\n",
        "\n",
        "train['char_count'] = train['headline'].apply(len)\n",
        "train['word_count'] = train['headline'].apply(lambda x: len(x.split()))\n",
        "train['word_density'] = train['char_count'] / (train['word_count']+1)\n",
        "train['punctuation_count'] = train['headline'].apply(lambda x: len(\"\".join(_ for _ in x if _ in string.punctuation))) \n",
        "train['title_word_count'] = train['headline'].apply(lambda x: len([wrd for wrd in x.split() if wrd.istitle()]))\n",
        "train['upper_case_word_count'] = train['headline'].apply(lambda x: len([wrd for wrd in x.split() if wrd.isupper()]))\n",
        "\n",
        "\n",
        "test['char_count'] = test['headline'].apply(len)\n",
        "test['word_count'] = test['headline'].apply(lambda x: len(x.split()))\n",
        "test['word_density'] = test['char_count'] / (test['word_count']+1)\n",
        "test['punctuation_count'] = test['headline'].apply(lambda x: len(\"\".join(_ for _ in x if _ in string.punctuation))) \n",
        "test['title_word_count'] = test['headline'].apply(lambda x: len([wrd for wrd in x.split() if wrd.istitle()]))\n",
        "test['upper_case_word_count'] = test['headline'].apply(lambda x: len([wrd for wrd in x.split() if wrd.isupper()]))"
      ],
      "metadata": {
        "id": "zbKnvYyF0Jjb"
      },
      "execution_count": null,
      "outputs": []
    },
    {
      "cell_type": "markdown",
      "source": [
        "## Using bag of words with N-gram"
      ],
      "metadata": {
        "id": "b-_wC5_507RS"
      }
    },
    {
      "cell_type": "code",
      "source": [
        "CV = CountVectorizer(min_df=0.0, max_df=1.0)\n",
        "trainCV = CV.fit_transform(train['headline_clean']).toarray()\n",
        "trainCV = pd.DataFrame(trainCV, columns=CV.get_feature_names())\n",
        "\n",
        "testCV = CV.fit_transform(test['headline_clean']).toarray()\n",
        "testCV = pd.DataFrame(testCV, columns=CV.get_feature_names())\n",
        "trainCV.head()"
      ],
      "metadata": {
        "id": "OaCkzgbY0qt8"
      },
      "execution_count": null,
      "outputs": []
    },
    {
      "cell_type": "markdown",
      "source": [
        "### Using TF-idf features"
      ],
      "metadata": {
        "id": "l-S11ibp2la-"
      }
    },
    {
      "cell_type": "markdown",
      "source": [
        "tfv = TfidfVectorizer(\n",
        "            stop_words = 'english')\n",
        "\n",
        "traintfv = tfv.fit_transform(train['headline_clean']).toarray()\n",
        "traintfv = pd.DataFrame(traintfv, columns=tfv.get_feature_names())\n",
        "\n",
        "testtfv = tfv.fit_transform(test['headline_clean']).toarray()\n",
        "testtfv = pd.DataFrame(testtfv, columns=tfv.get_feature_names())\n",
        "traintfv.head()"
      ],
      "metadata": {
        "id": "YiwipPwS6syF"
      }
    },
    {
      "cell_type": "code",
      "source": [
        "nnnn"
      ],
      "metadata": {
        "id": "HjAzvOjJ3g3j"
      },
      "execution_count": null,
      "outputs": []
    },
    {
      "cell_type": "markdown",
      "source": [
        " ## combining the data"
      ],
      "metadata": {
        "id": "bADfmnRM61YM"
      }
    },
    {
      "cell_type": "code",
      "source": [
        "data = pd.concat([train, trainCV], axis=1)\n",
        "test_data = pd.concat([test, testCV], axis=1)"
      ],
      "metadata": {
        "id": "8Uq2FlVw63ys"
      },
      "execution_count": null,
      "outputs": []
    },
    {
      "cell_type": "code",
      "source": [
        ""
      ],
      "metadata": {
        "id": "Es7PqT2U7xWe"
      },
      "execution_count": null,
      "outputs": []
    }
  ]
}